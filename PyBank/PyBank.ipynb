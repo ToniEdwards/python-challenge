{
 "cells": [
  {
   "cell_type": "code",
   "execution_count": 128,
   "id": "71c9e823",
   "metadata": {},
   "outputs": [],
   "source": [
    "# Modules\n",
    "import os\n",
    "import csv\n",
    "import sys"
   ]
  },
  {
   "cell_type": "code",
   "execution_count": 16,
   "id": "598d8e6c",
   "metadata": {},
   "outputs": [],
   "source": [
    "# Set path for file\n",
    "csvpath = 'Resources/budget_data.csv'"
   ]
  },
  {
   "cell_type": "code",
   "execution_count": null,
   "id": "ed7b19cb",
   "metadata": {
    "scrolled": true
   },
   "outputs": [],
   "source": [
    "# Open the CSV\n",
    "with open(csvpath) as csvfile:\n",
    "    csvreader = csv.reader(csvfile, delimiter=',')\n",
    "    #print(csvreader)\n",
    "    \n",
    "    # Read the header row first (skip this step if there is now header) \n",
    "    csvheader = next(csvreader)\n",
    "    #print(f\"CSV Header: {csvheader}\")\n",
    "    \n",
    "    # Loop through looking for number of rows\n",
    "    rows = []\n",
    "    changeList= []\n",
    "    greatestIncrease = []\n",
    "    greatestDecrease = []\n",
    "    months = 0\n",
    "    net = 0\n",
    "    profit = 0\n",
    "    for row in csvreader:\n",
    "        rows.append(row)\n",
    "    #Total number of Months\n",
    "        months += 1\n",
    "    #Total Profit/Losses\n",
    "        net += float(row[1])\n",
    "    #Changes in Profit/Losses\n",
    "    #increase = newnumber - old number\n",
    "        change = float(row[1]) - profit\n",
    "        profit = float(row[1])\n",
    "        changeList.append(change)\n",
    "#Find the average of those changes\n",
    "    average = sum(changeList)/len(changeList)\n",
    "#The greatest increase in profits (date and amount) over the entire period\n",
    "    greatestIncrease = max(changeList)\n",
    "#The greatest decrease in profits (date and amount) over the entire period\n",
    "    greatestDecrease = min(changeList)\n",
    "#Print Analysis Summary\n",
    "sys.stdout =  open('analysis/analysis.txt', 'w')\n",
    "print(\"---Financial Analysis---\")\n",
    "print(\"Total Number of Months:\", months)\n",
    "print(\"Net Profit/Losses:\", \"${:,.2f}\".format(net))\n",
    "print(\"Average Change in Profit/Losses:\", \"${:,.2f}\".format(average))\n",
    "print(\"Greatest Increase in Profits:\", \"${:,.2f}\".format(greatestIncrease))\n",
    "print(\"Greatest Decrease in Profits:\", \"${:,.2f}\".format(greatestDecrease))\n",
    "sys.stdout.close()"
   ]
  }
 ],
 "metadata": {
  "kernelspec": {
   "display_name": "Python 3",
   "language": "python",
   "name": "python3"
  },
  "language_info": {
   "codemirror_mode": {
    "name": "ipython",
    "version": 3
   },
   "file_extension": ".py",
   "mimetype": "text/x-python",
   "name": "python",
   "nbconvert_exporter": "python",
   "pygments_lexer": "ipython3",
   "version": "3.8.8"
  }
 },
 "nbformat": 4,
 "nbformat_minor": 5
}
