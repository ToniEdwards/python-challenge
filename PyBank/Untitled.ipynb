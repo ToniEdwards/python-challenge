{
 "cells": [
  {
   "cell_type": "code",
   "execution_count": 62,
   "id": "71c9e823",
   "metadata": {},
   "outputs": [],
   "source": [
    "import os\n",
    "import csv\n"
   ]
  },
  {
   "cell_type": "code",
   "execution_count": 63,
   "id": "598d8e6c",
   "metadata": {},
   "outputs": [],
   "source": [
    "csvpath = 'Resources/budget_data.csv'"
   ]
  },
  {
   "cell_type": "code",
   "execution_count": 95,
   "id": "ed7b19cb",
   "metadata": {
    "scrolled": true
   },
   "outputs": [
    {
     "name": "stdout",
     "output_type": "stream",
     "text": [
      "Header: ['Date', 'Profit/Losses']\n",
      "[['Jan-2010', '867884'], ['Feb-2010', '984655'], ['Mar-2010', '322013'], ['Apr-2010', '-69417'], ['May-2010', '310503'], ['Jun-2010', '522857'], ['Jul-2010', '1033096'], ['Aug-2010', '604885'], ['Sep-2010', '-216386'], ['Oct-2010', '477532'], ['Nov-2010', '893810'], ['Dec-2010', '-80353'], ['Jan-2011', '779806'], ['Feb-2011', '-335203'], ['Mar-2011', '697845'], ['Apr-2011', '793163'], ['May-2011', '485070'], ['Jun-2011', '584122'], ['Jul-2011', '62729'], ['Aug-2011', '668179'], ['Sep-2011', '899906'], ['Oct-2011', '834719'], ['Nov-2011', '132003'], ['Dec-2011', '309978'], ['Jan-2012', '-755566'], ['Feb-2012', '1170593'], ['Mar-2012', '252788'], ['Apr-2012', '1151518'], ['May-2012', '817256'], ['Jun-2012', '570757'], ['Jul-2012', '506702'], ['Aug-2012', '-1022534'], ['Sep-2012', '475062'], ['Oct-2012', '779976'], ['Nov-2012', '144175'], ['Dec-2012', '542494'], ['Jan-2013', '359333'], ['Feb-2013', '321469'], ['Mar-2013', '67780'], ['Apr-2013', '471435'], ['May-2013', '565603'], ['Jun-2013', '872480'], ['Jul-2013', '789480'], ['Aug-2013', '999942'], ['Sep-2013', '-1196225'], ['Oct-2013', '268997'], ['Nov-2013', '-687986'], ['Dec-2013', '1150461'], ['Jan-2014', '682458'], ['Feb-2014', '617856'], ['Mar-2014', '824098'], ['Apr-2014', '581943'], ['May-2014', '132864'], ['Jun-2014', '448062'], ['Jul-2014', '689161'], ['Aug-2014', '800701'], ['Sep-2014', '1166643'], ['Oct-2014', '947333'], ['Nov-2014', '578668'], ['Dec-2014', '988505'], ['Jan-2015', '1139715'], ['Feb-2015', '1029471'], ['Mar-2015', '687533'], ['Apr-2015', '-524626'], ['May-2015', '158620'], ['Jun-2015', '87795'], ['Jul-2015', '423389'], ['Aug-2015', '840723'], ['Sep-2015', '568529'], ['Oct-2015', '332067'], ['Nov-2015', '989499'], ['Dec-2015', '778237'], ['Jan-2016', '650000'], ['Feb-2016', '-1100387'], ['Mar-2016', '-174946'], ['Apr-2016', '757143'], ['May-2016', '445709'], ['Jun-2016', '712961'], ['Jul-2016', '-1163797'], ['Aug-2016', '569899'], ['Sep-2016', '768450'], ['Oct-2016', '102685'], ['Nov-2016', '795914'], ['Dec-2016', '60988'], ['Jan-2017', '138230'], ['Feb-2017', '671099']]\n"
     ]
    }
   ],
   "source": [
    "with open(csvpath, 'r') as csvfile:\n",
    "    csv_reader = csv.reader(csvfile, delimiter=',')\n",
    "    csv_header = next(csv_reader)\n",
    "    print(\"Header: \"+str(csv_header))\n",
    "    rows = []\n",
    "    for row in csv_reader:\n",
    "        rows.append(row)\n",
    "    print(rows)"
   ]
  },
  {
   "cell_type": "code",
   "execution_count": 97,
   "id": "0d571f6b",
   "metadata": {},
   "outputs": [
    {
     "name": "stdout",
     "output_type": "stream",
     "text": [
      "<built-in method count of list object at 0x000002065C02F400>\n"
     ]
    }
   ],
   "source": [
    "totalMonths = rows.count\n",
    "print(totalMonths)"
   ]
  },
  {
   "cell_type": "code",
   "execution_count": 93,
   "id": "df98ad15",
   "metadata": {},
   "outputs": [
    {
     "ename": "KeyError",
     "evalue": "('Date', 'Profit/Losses')",
     "output_type": "error",
     "traceback": [
      "\u001b[1;31m---------------------------------------------------------------------------\u001b[0m",
      "\u001b[1;31mKeyError\u001b[0m                                  Traceback (most recent call last)",
      "\u001b[1;32mC:\\ANACONDA\\lib\\site-packages\\pandas\\core\\indexes\\base.py\u001b[0m in \u001b[0;36mget_loc\u001b[1;34m(self, key, method, tolerance)\u001b[0m\n\u001b[0;32m   3079\u001b[0m             \u001b[1;32mtry\u001b[0m\u001b[1;33m:\u001b[0m\u001b[1;33m\u001b[0m\u001b[1;33m\u001b[0m\u001b[0m\n\u001b[1;32m-> 3080\u001b[1;33m                 \u001b[1;32mreturn\u001b[0m \u001b[0mself\u001b[0m\u001b[1;33m.\u001b[0m\u001b[0m_engine\u001b[0m\u001b[1;33m.\u001b[0m\u001b[0mget_loc\u001b[0m\u001b[1;33m(\u001b[0m\u001b[0mcasted_key\u001b[0m\u001b[1;33m)\u001b[0m\u001b[1;33m\u001b[0m\u001b[1;33m\u001b[0m\u001b[0m\n\u001b[0m\u001b[0;32m   3081\u001b[0m             \u001b[1;32mexcept\u001b[0m \u001b[0mKeyError\u001b[0m \u001b[1;32mas\u001b[0m \u001b[0merr\u001b[0m\u001b[1;33m:\u001b[0m\u001b[1;33m\u001b[0m\u001b[1;33m\u001b[0m\u001b[0m\n",
      "\u001b[1;32mpandas\\_libs\\index.pyx\u001b[0m in \u001b[0;36mpandas._libs.index.IndexEngine.get_loc\u001b[1;34m()\u001b[0m\n",
      "\u001b[1;32mpandas\\_libs\\index.pyx\u001b[0m in \u001b[0;36mpandas._libs.index.IndexEngine.get_loc\u001b[1;34m()\u001b[0m\n",
      "\u001b[1;32mpandas\\_libs\\hashtable_class_helper.pxi\u001b[0m in \u001b[0;36mpandas._libs.hashtable.PyObjectHashTable.get_item\u001b[1;34m()\u001b[0m\n",
      "\u001b[1;32mpandas\\_libs\\hashtable_class_helper.pxi\u001b[0m in \u001b[0;36mpandas._libs.hashtable.PyObjectHashTable.get_item\u001b[1;34m()\u001b[0m\n",
      "\u001b[1;31mKeyError\u001b[0m: ('Date', 'Profit/Losses')",
      "\nThe above exception was the direct cause of the following exception:\n",
      "\u001b[1;31mKeyError\u001b[0m                                  Traceback (most recent call last)",
      "\u001b[1;32m<ipython-input-93-02cafbb1aa7e>\u001b[0m in \u001b[0;36m<module>\u001b[1;34m\u001b[0m\n\u001b[0;32m      2\u001b[0m \u001b[0mnetTotal\u001b[0m \u001b[1;33m=\u001b[0m \u001b[0mdata_df\u001b[0m\u001b[1;33m[\u001b[0m\u001b[1;34m\"Profit/Losses\"\u001b[0m\u001b[1;33m]\u001b[0m\u001b[1;33m.\u001b[0m\u001b[0msum\u001b[0m\u001b[1;33m(\u001b[0m\u001b[1;33m)\u001b[0m\u001b[1;33m\u001b[0m\u001b[1;33m\u001b[0m\u001b[0m\n\u001b[0;32m      3\u001b[0m \u001b[0maverageChange\u001b[0m \u001b[1;33m=\u001b[0m \u001b[0mdata_df\u001b[0m\u001b[1;33m[\u001b[0m\u001b[1;34m\"Profit/Losses\"\u001b[0m\u001b[1;33m]\u001b[0m\u001b[1;33m.\u001b[0m\u001b[0mmean\u001b[0m\u001b[1;33m(\u001b[0m\u001b[1;33m)\u001b[0m\u001b[1;33m\u001b[0m\u001b[1;33m\u001b[0m\u001b[0m\n\u001b[1;32m----> 4\u001b[1;33m \u001b[0mprofitIncrease\u001b[0m \u001b[1;33m=\u001b[0m \u001b[0mdata_df\u001b[0m\u001b[1;33m[\u001b[0m\u001b[1;34m\"Date\"\u001b[0m\u001b[1;33m,\u001b[0m\u001b[1;34m\"Profit/Losses\"\u001b[0m\u001b[1;33m]\u001b[0m\u001b[1;33m.\u001b[0m\u001b[0mmax\u001b[0m\u001b[1;33m(\u001b[0m\u001b[1;33m)\u001b[0m\u001b[1;33m\u001b[0m\u001b[1;33m\u001b[0m\u001b[0m\n\u001b[0m\u001b[0;32m      5\u001b[0m \u001b[0mprofitDecrease\u001b[0m \u001b[1;33m=\u001b[0m \u001b[0mdata_df\u001b[0m\u001b[1;33m[\u001b[0m\u001b[1;34m\"Date\"\u001b[0m\u001b[1;33m,\u001b[0m\u001b[1;34m\"Profit/Losses\"\u001b[0m\u001b[1;33m]\u001b[0m\u001b[1;33m.\u001b[0m\u001b[0mmin\u001b[0m\u001b[1;33m(\u001b[0m\u001b[1;33m)\u001b[0m\u001b[1;33m\u001b[0m\u001b[1;33m\u001b[0m\u001b[0m\n\u001b[0;32m      6\u001b[0m \u001b[0mprint\u001b[0m\u001b[1;33m(\u001b[0m\u001b[1;34m\"Financial Analysis\"\u001b[0m\u001b[1;33m)\u001b[0m\u001b[1;33m\u001b[0m\u001b[1;33m\u001b[0m\u001b[0m\n",
      "\u001b[1;32mC:\\ANACONDA\\lib\\site-packages\\pandas\\core\\frame.py\u001b[0m in \u001b[0;36m__getitem__\u001b[1;34m(self, key)\u001b[0m\n\u001b[0;32m   3022\u001b[0m             \u001b[1;32mif\u001b[0m \u001b[0mself\u001b[0m\u001b[1;33m.\u001b[0m\u001b[0mcolumns\u001b[0m\u001b[1;33m.\u001b[0m\u001b[0mnlevels\u001b[0m \u001b[1;33m>\u001b[0m \u001b[1;36m1\u001b[0m\u001b[1;33m:\u001b[0m\u001b[1;33m\u001b[0m\u001b[1;33m\u001b[0m\u001b[0m\n\u001b[0;32m   3023\u001b[0m                 \u001b[1;32mreturn\u001b[0m \u001b[0mself\u001b[0m\u001b[1;33m.\u001b[0m\u001b[0m_getitem_multilevel\u001b[0m\u001b[1;33m(\u001b[0m\u001b[0mkey\u001b[0m\u001b[1;33m)\u001b[0m\u001b[1;33m\u001b[0m\u001b[1;33m\u001b[0m\u001b[0m\n\u001b[1;32m-> 3024\u001b[1;33m             \u001b[0mindexer\u001b[0m \u001b[1;33m=\u001b[0m \u001b[0mself\u001b[0m\u001b[1;33m.\u001b[0m\u001b[0mcolumns\u001b[0m\u001b[1;33m.\u001b[0m\u001b[0mget_loc\u001b[0m\u001b[1;33m(\u001b[0m\u001b[0mkey\u001b[0m\u001b[1;33m)\u001b[0m\u001b[1;33m\u001b[0m\u001b[1;33m\u001b[0m\u001b[0m\n\u001b[0m\u001b[0;32m   3025\u001b[0m             \u001b[1;32mif\u001b[0m \u001b[0mis_integer\u001b[0m\u001b[1;33m(\u001b[0m\u001b[0mindexer\u001b[0m\u001b[1;33m)\u001b[0m\u001b[1;33m:\u001b[0m\u001b[1;33m\u001b[0m\u001b[1;33m\u001b[0m\u001b[0m\n\u001b[0;32m   3026\u001b[0m                 \u001b[0mindexer\u001b[0m \u001b[1;33m=\u001b[0m \u001b[1;33m[\u001b[0m\u001b[0mindexer\u001b[0m\u001b[1;33m]\u001b[0m\u001b[1;33m\u001b[0m\u001b[1;33m\u001b[0m\u001b[0m\n",
      "\u001b[1;32mC:\\ANACONDA\\lib\\site-packages\\pandas\\core\\indexes\\base.py\u001b[0m in \u001b[0;36mget_loc\u001b[1;34m(self, key, method, tolerance)\u001b[0m\n\u001b[0;32m   3080\u001b[0m                 \u001b[1;32mreturn\u001b[0m \u001b[0mself\u001b[0m\u001b[1;33m.\u001b[0m\u001b[0m_engine\u001b[0m\u001b[1;33m.\u001b[0m\u001b[0mget_loc\u001b[0m\u001b[1;33m(\u001b[0m\u001b[0mcasted_key\u001b[0m\u001b[1;33m)\u001b[0m\u001b[1;33m\u001b[0m\u001b[1;33m\u001b[0m\u001b[0m\n\u001b[0;32m   3081\u001b[0m             \u001b[1;32mexcept\u001b[0m \u001b[0mKeyError\u001b[0m \u001b[1;32mas\u001b[0m \u001b[0merr\u001b[0m\u001b[1;33m:\u001b[0m\u001b[1;33m\u001b[0m\u001b[1;33m\u001b[0m\u001b[0m\n\u001b[1;32m-> 3082\u001b[1;33m                 \u001b[1;32mraise\u001b[0m \u001b[0mKeyError\u001b[0m\u001b[1;33m(\u001b[0m\u001b[0mkey\u001b[0m\u001b[1;33m)\u001b[0m \u001b[1;32mfrom\u001b[0m \u001b[0merr\u001b[0m\u001b[1;33m\u001b[0m\u001b[1;33m\u001b[0m\u001b[0m\n\u001b[0m\u001b[0;32m   3083\u001b[0m \u001b[1;33m\u001b[0m\u001b[0m\n\u001b[0;32m   3084\u001b[0m         \u001b[1;32mif\u001b[0m \u001b[0mtolerance\u001b[0m \u001b[1;32mis\u001b[0m \u001b[1;32mnot\u001b[0m \u001b[1;32mNone\u001b[0m\u001b[1;33m:\u001b[0m\u001b[1;33m\u001b[0m\u001b[1;33m\u001b[0m\u001b[0m\n",
      "\u001b[1;31mKeyError\u001b[0m: ('Date', 'Profit/Losses')"
     ]
    }
   ],
   "source": [
    "#totalMonths = len(data_df)\n",
    "#netTotal = data_df[\"Profit/Losses\"].sum()\n",
    "#averageChange = data_df[\"Profit/Losses\"].mean()\n",
    "#profitIncrease = data_df[\"Profit/Losses\"].max()\n",
    "#profitDecrease = data_df[\"Profit/Losses\"].min()\n",
    "#print(\"Financial Analysis\")\n",
    "#print(\"Total Months:\", totalMonths)\n",
    "#print(\"Net Total:\", netTotal)\n",
    "#print(\"Average Change:\", averageChange)\n",
    "#print(\"Greatest Increase In Profits:\", profitIncrease)\n",
    "#print(\"Greatest Decrease In Profits:\", profitDecrease)"
   ]
  }
 ],
 "metadata": {
  "kernelspec": {
   "display_name": "Python 3",
   "language": "python",
   "name": "python3"
  },
  "language_info": {
   "codemirror_mode": {
    "name": "ipython",
    "version": 3
   },
   "file_extension": ".py",
   "mimetype": "text/x-python",
   "name": "python",
   "nbconvert_exporter": "python",
   "pygments_lexer": "ipython3",
   "version": "3.8.8"
  }
 },
 "nbformat": 4,
 "nbformat_minor": 5
}
