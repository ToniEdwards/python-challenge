{
 "cells": [
  {
   "cell_type": "code",
   "execution_count": 7,
   "id": "7287f9d1",
   "metadata": {},
   "outputs": [],
   "source": [
    "#Dependencies\n",
    "import os\n",
    "import csv\n",
    "import sys"
   ]
  },
  {
   "cell_type": "code",
   "execution_count": 8,
   "id": "3627ac82",
   "metadata": {},
   "outputs": [],
   "source": [
    "# Set path for file\n",
    "csvpath = 'Resources/election_data.csv'"
   ]
  },
  {
   "cell_type": "code",
   "execution_count": null,
   "id": "16387aa1",
   "metadata": {},
   "outputs": [],
   "source": [
    "# Open the CSV\n",
    "with open(csvpath) as csvfile:\n",
    "    csvreader = csv.reader(csvfile, delimiter=',')\n",
    "    #print(csvreader)\n",
    "# Read the Header  \n",
    "    csvheader = next(csvreader)\n",
    "    #print(f\"CSV Header: {csvheader}\")\n",
    "# Set Variables\n",
    "    totalvotes = 0\n",
    "    khanvote = 0\n",
    "    correyvote = 0\n",
    "    livote = 0\n",
    "    ovote = 0\n",
    "    candidates = []\n",
    "    rows = []\n",
    "# Read each row of data after the header\n",
    "    for row in csvreader:\n",
    "        rows.append(row)\n",
    "#The total number of votes cast\n",
    "        totalvotes += 1\n",
    "        if row[2] not in candidates:\n",
    "            candidates.append(row[2])\n",
    "        if row[2] == \"Khan\":\n",
    "            khanvote += 1\n",
    "        if row[2] == \"Correy\":\n",
    "            correyvote += 1\n",
    "        if row[2] == \"Li\":\n",
    "            livote += 1\n",
    "        if row[2] == \"O'Tooley\":\n",
    "            ovote += 1\n",
    "    khanpercent = khanvote/totalvotes * 100\n",
    "    correypercent = correyvote/totalvotes * 100\n",
    "    lipercent = livote/totalvotes * 100\n",
    "    opercent = ovote/totalvotes * 100\n",
    "#Print Analysis Summary\n",
    "sys.stdout =  open('analysis/analysis.txt', 'w')\n",
    "print(\"----Election Results----\")\n",
    "print(\"Total Votes:\", totalvotes)\n",
    "print(\"Candidates:\", candidates)\n",
    "print(\"Khan:\", \"%{:,.0f}\".format(khanpercent), khanvote)\n",
    "print(\"Correy:\", \"%{:,.0f}\".format(correypercent), correyvote)\n",
    "print(\"Li:\", \"%{:,.0f}\".format(lipercent), livote)\n",
    "print(\"O'Tooley:\", \"%{:,.0f}\".format(opercent), ovote)\n",
    "sys.stdout.close()"
   ]
  }
 ],
 "metadata": {
  "kernelspec": {
   "display_name": "Python 3",
   "language": "python",
   "name": "python3"
  },
  "language_info": {
   "codemirror_mode": {
    "name": "ipython",
    "version": 3
   },
   "file_extension": ".py",
   "mimetype": "text/x-python",
   "name": "python",
   "nbconvert_exporter": "python",
   "pygments_lexer": "ipython3",
   "version": "3.8.8"
  }
 },
 "nbformat": 4,
 "nbformat_minor": 5
}
